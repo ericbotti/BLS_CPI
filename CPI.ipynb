{
 "cells": [
  {
   "cell_type": "markdown",
   "metadata": {},
   "source": [
    "## U.S. Bureau of Labor Statistics - CPI Analysis\n",
    "#### Eric Bottinelli"
   ]
  },
  {
   "cell_type": "markdown",
   "metadata": {},
   "source": [
    "### 1. Retrieve data via BLS API v2\n",
    "\n",
    "**Documentation**\n",
    "\n",
    "- https://www.bls.gov/developers/api_python.htm\n",
    "- https://data.bls.gov/cgi-bin/surveymost?cu\n",
    "\n",
    "**Packages to install**\n",
    "\n",
    "- Prettytable ('pip install prettytable')\n",
    "\n",
    "**API Series ID**\n",
    "\n",
    "Consumer Price Index for All Urban Consumers (CPI-U)\n",
    "- *All items in U.S. city average, all urban consumers, not seasonally adjusted*: CUUR0000SA0\n",
    "- *All items less food and energy in U.S. city average, all urban consumers, not seasonally adjusted*: CUUR0000SA0L1E\n",
    "- *Food and beverages in U.S. city average, all urban consumers, not seasonally adjusted*: CUUR0000SAF\n",
    "- *Food at home in U.S. city average, all urban consumers, not seasonally adjusted*: CUUR0000SAF11\n",
    "- *Food away from home in U.S. city average, all urban consumers, not seasonally adjusted*: CUUR0000SEFV\n",
    "- *Energy in U.S. city average, all urban consumers, not seasonally adjusted*: CUUR0000SA0E\n",
    "- *Housing in U.S. city average, all urban consumers, not seasonally adjusted*: CUUR0000SAH\n",
    "- *Shelter in U.S. city average, all urban consumers, not seasonally adjusted*: CUUR0000SAH1\n",
    "((https://www.bls.gov/cpi/factsheets/owners-equivalent-rent-and-rent.htm))\n",
    "\n",
    "**Calculate special CPI**\n",
    "\n",
    "Occasionally, a user wishes to estimate a price change that is not published by BLS. For instance, suppose a user would like a CPI series for ‘services less energy services and shelter’. This can be done by estimating a special index, in this case, ‘services less energy services and shelter’.\n",
    "[BLS Doc](https://www.bls.gov/cpi/factsheets/constructing-special-cpis.htm)\n",
    "\n",
    "If SEEB01 -> CUUR0000SEEB01\n",
    "\n",
    "Cost weight is just a sum of all the items\n",
    "\n",
    "If I add all the values to calculate the services less energy services and shelter, it becomes a lot of data. Explore different solution (e.g. remove goods from core CPI)\n",
    "\n",
    "**Supercore CPI**\n",
    "\n",
    "\"Fed Chair Jerome Powell cited a specific category of inflation—inflation in core services other than housing—as being perhaps “the most important category for understanding the future evolution of core inflation.” The financial press has termed this category “supercore” inflation\" ([FED of St. Louis](https://www.stlouisfed.org/on-the-economy/2024/may/measuring-inflation-headline-core-supercore-services))"
   ]
  },
  {
   "cell_type": "code",
   "execution_count": 3,
   "metadata": {},
   "outputs": [],
   "source": [
    "import os\n",
    "import requests\n",
    "import json\n",
    "import prettytable\n",
    "import pandas as pd\n",
    "from datetime import datetime\n",
    "\n",
    "folder_name = 'CPI_Data'"
   ]
  },
  {
   "cell_type": "code",
   "execution_count": 7,
   "metadata": {},
   "outputs": [],
   "source": [
    "if not os.path.exists(folder_name):\n",
    "    os.makedirs(folder_name)\n",
    "\n",
    "current_date = datetime.now()\n",
    "current_year = current_date.year\n",
    "last_year = current_year - 1\n",
    "\n",
    "headers = {'Content-type': 'application/json'}\n",
    "series_ids = ['CUUR0000SA0', 'CUUR0000SA0L1E', 'CUUR0000SAF', 'CUUR0000SAF11', 'CUUR0000SEFV', 'CUUR0000SA0E', 'CUUR0000SAH1']\n",
    "data = json.dumps({\"seriesid\": series_ids, \"startyear\": str(last_year), \"endyear\": str(current_year)})\n",
    "response = requests.post('https://api.bls.gov/publicAPI/v2/timeseries/data/', data=data, headers=headers)\n",
    "json_data = json.loads(response.text)\n",
    "\n",
    "series_names = {\n",
    "    'CUUR0000SA0': 'All_Items',\n",
    "    'CUUR0000SA0L1E': 'All_Items_Less_Food_Energy',\n",
    "    'CUUR0000SAF': 'Food_Beverages',\n",
    "    'CUUR0000SAF11': 'Food_At_Home',\n",
    "    'CUUR0000SEFV': 'Food_Away_From_Home',\n",
    "    'CUUR0000SA0E': 'Energy',\n",
    "    'CUUR0000SAH1': 'Shelter'\n",
    "}\n",
    "\n",
    "all_data = []\n",
    "for series in json_data['Results']['series']:\n",
    "    rows = []\n",
    "    for item in series['data']:\n",
    "        footnotes = \"\".join([footnote['text'] + ',' for footnote in item['footnotes'] if footnote]).rstrip(',')\n",
    "        if 'M01' <= item['period'] <= 'M12':\n",
    "            rows.append([series_names[series['seriesID']], item['year'], item['period'], item['value'], footnotes])\n",
    "\n",
    "    # Create dataframe for current series\n",
    "    df = pd.DataFrame(rows, columns=[\"series id\", \"year\", \"period\", \"value\", \"footnotes\"])\n",
    "    all_data.append(df)\n",
    "\n",
    "complete_data = pd.concat(all_data)\n",
    "\n",
    "csv_path = os.path.join(folder_name, 'CPI_data.csv')\n",
    "complete_data.to_csv(csv_path, index=False)"
   ]
  },
  {
   "cell_type": "code",
   "execution_count": 4,
   "metadata": {},
   "outputs": [],
   "source": [
    "complete_data = pd.read_csv(\"CPI_Data/CPI_data.csv\")"
   ]
  },
  {
   "cell_type": "code",
   "execution_count": 15,
   "metadata": {},
   "outputs": [],
   "source": [
    "df = complete_data.copy()\n",
    "df['date'] = pd.to_datetime(df['year'].astype(str) + df['period'].str.replace('M', ''), format='%Y%m')\n",
    "df['series id'] = df['series id'].astype(str)  # Convert series id to string\n",
    "df['value'] = pd.to_numeric(df['value'], errors='coerce')  # Ensure value is numeric\n",
    "df['footnotes'] = df['footnotes'].astype(str)  # Convert footnotes to string\n",
    "df.drop(['year', 'period', 'footnotes'], axis=1, inplace=True)\n",
    "df.rename(columns={'series id': 'id'}, inplace=True)\n",
    "df = df[['id', 'date', 'value']]"
   ]
  },
  {
   "cell_type": "code",
   "execution_count": 16,
   "metadata": {},
   "outputs": [],
   "source": [
    "df['MoM_change'] = df.groupby('id')['value'].pct_change()\n",
    "df['YoY_change'] = df.groupby('id')['value'].pct_change(periods=12)"
   ]
  },
  {
   "cell_type": "code",
   "execution_count": 73,
   "metadata": {},
   "outputs": [
    {
     "data": {
      "text/html": [
       "<div>\n",
       "<style scoped>\n",
       "    .dataframe tbody tr th:only-of-type {\n",
       "        vertical-align: middle;\n",
       "    }\n",
       "\n",
       "    .dataframe tbody tr th {\n",
       "        vertical-align: top;\n",
       "    }\n",
       "\n",
       "    .dataframe thead th {\n",
       "        text-align: right;\n",
       "    }\n",
       "</style>\n",
       "<table border=\"1\" class=\"dataframe\">\n",
       "  <thead>\n",
       "    <tr style=\"text-align: right;\">\n",
       "      <th></th>\n",
       "      <th>id</th>\n",
       "      <th>date</th>\n",
       "      <th>value</th>\n",
       "      <th>MoM_change</th>\n",
       "      <th>YoY_change</th>\n",
       "    </tr>\n",
       "  </thead>\n",
       "  <tbody>\n",
       "    <tr>\n",
       "      <th>0</th>\n",
       "      <td>All_Items</td>\n",
       "      <td>2024-07-01</td>\n",
       "      <td>314.540</td>\n",
       "      <td>NaN</td>\n",
       "      <td>NaN</td>\n",
       "    </tr>\n",
       "    <tr>\n",
       "      <th>1</th>\n",
       "      <td>All_Items</td>\n",
       "      <td>2024-06-01</td>\n",
       "      <td>314.175</td>\n",
       "      <td>-0.12</td>\n",
       "      <td>NaN</td>\n",
       "    </tr>\n",
       "    <tr>\n",
       "      <th>2</th>\n",
       "      <td>All_Items</td>\n",
       "      <td>2024-05-01</td>\n",
       "      <td>314.069</td>\n",
       "      <td>-0.03</td>\n",
       "      <td>NaN</td>\n",
       "    </tr>\n",
       "    <tr>\n",
       "      <th>3</th>\n",
       "      <td>All_Items</td>\n",
       "      <td>2024-04-01</td>\n",
       "      <td>313.548</td>\n",
       "      <td>-0.17</td>\n",
       "      <td>NaN</td>\n",
       "    </tr>\n",
       "    <tr>\n",
       "      <th>4</th>\n",
       "      <td>All_Items</td>\n",
       "      <td>2024-03-01</td>\n",
       "      <td>312.332</td>\n",
       "      <td>-0.39</td>\n",
       "      <td>NaN</td>\n",
       "    </tr>\n",
       "  </tbody>\n",
       "</table>\n",
       "</div>"
      ],
      "text/plain": [
       "          id       date    value  MoM_change  YoY_change\n",
       "0  All_Items 2024-07-01  314.540         NaN         NaN\n",
       "1  All_Items 2024-06-01  314.175       -0.12         NaN\n",
       "2  All_Items 2024-05-01  314.069       -0.03         NaN\n",
       "3  All_Items 2024-04-01  313.548       -0.17         NaN\n",
       "4  All_Items 2024-03-01  312.332       -0.39         NaN"
      ]
     },
     "execution_count": 73,
     "metadata": {},
     "output_type": "execute_result"
    }
   ],
   "source": [
    "df.head()"
   ]
  },
  {
   "cell_type": "code",
   "execution_count": 18,
   "metadata": {},
   "outputs": [],
   "source": [
    "df2 = df.copy()\n",
    "df2['Month-Year'] = df2['date'].dt.strftime('%b-%y')\n",
    "\n",
    "# Define mappings for IDs to Categories and Weights\n",
    "category_map = {\n",
    "    'All_Items': 'Headline',\n",
    "    'All_Items_Less_Food_Energy': 'Food + Energy'\n",
    "}\n",
    "weight_map = {\n",
    "    'All_Items': '100%',\n",
    "    'All_Items_Less_Food_Energy': '~80%'\n",
    "}\n",
    "\n",
    "# Map the categories\n",
    "df2['Category'] = df2['id'].map(category_map)\n",
    "df2['Weight'] = df2['id'].map(weight_map)\n",
    "\n",
    "# Pivot the DataFrame\n",
    "pivot_df = df2.pivot_table(index=['Category', 'Weight'], columns='Month-Year', values='MoM_change', aggfunc='first')\n",
    "\n",
    "# Sort columns by converting them back to datetime and sorting in descending order\n",
    "pivot_df = pivot_df[sorted(pivot_df.columns, key=lambda x: pd.to_datetime(x, format='%b-%y'), reverse=True)]\n",
    "\n",
    "# Flatten the headers by removing the MultiIndex after pivot\n",
    "pivot_df.columns.name = None  # Remove the aggregation name\n",
    "pivot_df.reset_index(inplace=True)  # Make 'Category' and 'Weight' as regular columns\n",
    "\n"
   ]
  },
  {
   "cell_type": "code",
   "execution_count": 19,
   "metadata": {},
   "outputs": [
    {
     "name": "stdout",
     "output_type": "stream",
     "text": [
      "<class 'pandas.core.frame.DataFrame'>\n",
      "RangeIndex: 2 entries, 0 to 1\n",
      "Data columns (total 20 columns):\n",
      " #   Column    Non-Null Count  Dtype  \n",
      "---  ------    --------------  -----  \n",
      " 0   Category  2 non-null      object \n",
      " 1   Weight    2 non-null      object \n",
      " 2   Jun-24    2 non-null      float64\n",
      " 3   May-24    2 non-null      float64\n",
      " 4   Apr-24    2 non-null      float64\n",
      " 5   Mar-24    2 non-null      float64\n",
      " 6   Feb-24    2 non-null      float64\n",
      " 7   Jan-24    2 non-null      float64\n",
      " 8   Dec-23    2 non-null      float64\n",
      " 9   Nov-23    2 non-null      float64\n",
      " 10  Oct-23    2 non-null      float64\n",
      " 11  Sep-23    2 non-null      float64\n",
      " 12  Aug-23    2 non-null      float64\n",
      " 13  Jul-23    2 non-null      float64\n",
      " 14  Jun-23    2 non-null      float64\n",
      " 15  May-23    2 non-null      float64\n",
      " 16  Apr-23    2 non-null      float64\n",
      " 17  Mar-23    2 non-null      float64\n",
      " 18  Feb-23    2 non-null      float64\n",
      " 19  Jan-23    2 non-null      float64\n",
      "dtypes: float64(18), object(2)\n",
      "memory usage: 452.0+ bytes\n"
     ]
    }
   ],
   "source": [
    "pivot_df.info()"
   ]
  },
  {
   "cell_type": "code",
   "execution_count": 20,
   "metadata": {},
   "outputs": [],
   "source": [
    "csv_path = os.path.join(folder_name, 'cleaned_CPI_data.csv')\n",
    "pivot_df.to_csv(csv_path, index=False)"
   ]
  }
 ],
 "metadata": {
  "kernelspec": {
   "display_name": "myenv",
   "language": "python",
   "name": "python3"
  },
  "language_info": {
   "codemirror_mode": {
    "name": "ipython",
    "version": 3
   },
   "file_extension": ".py",
   "mimetype": "text/x-python",
   "name": "python",
   "nbconvert_exporter": "python",
   "pygments_lexer": "ipython3",
   "version": "3.11.5"
  }
 },
 "nbformat": 4,
 "nbformat_minor": 2
}
